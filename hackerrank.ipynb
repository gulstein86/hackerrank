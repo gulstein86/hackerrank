{
 "cells": [
  {
   "cell_type": "markdown",
   "id": "c1aea638-6a6b-4928-934f-3ec400b2d03f",
   "metadata": {},
   "source": [
    "# Implement KMeans from Scratch"
   ]
  },
  {
   "cell_type": "markdown",
   "id": "afc53da0-43c9-4acf-826c-e5b6a5a245e2",
   "metadata": {},
   "source": [
    "[Application of kMeans Clustering algorithm for prediction of Students’ Academic Performance](https://arxiv.org/pdf/1002.2425.pdf)\n",
    "\n",
    "[Least squares quantization in PCM](https://hal.science/hal-04614938/document)\n",
    "\n",
    "Implementing the K-Means clustering algorithm involves the following steps:\n",
    "\n",
    "1. **Choose the Number of Clusters (K):** Decide on the number of clusters, K, to partition the data into. This choice can be guided by domain knowledge or methods like the Elbow Method.\n",
    "\n",
    "2. **Initialize Centroids:** Select K initial centroids. This can be done randomly or using more sophisticated methods like k-means++ to improve convergence.\n",
    "\n",
    "3. **Assign Data Points to Nearest Centroid:** For each data point, compute its distance to each centroid and assign it to the closest one, forming K clusters.\n",
    "\n",
    "4. **Update Centroids:** Calculate the new centroids by computing the mean of all data points assigned to each cluster.\n",
    "\n",
    "5. **Repeat Steps 3 and 4:** Continue the assignment and update steps until the centroids no longer change significantly or a predetermined number of iterations is reached.\n",
    "\n",
    "This iterative process aims to minimize the within-cluster variance, leading to compact and well-separated clusters.\n",
    "\n",
    "For a detailed explanation and practical implementation guide, you can refer to this comprehensive article on K-Means clustering."
   ]
  },
  {
   "cell_type": "code",
   "execution_count": 2,
   "id": "0f103e70-4596-4ce2-bbd8-464bca02be74",
   "metadata": {
    "execution": {
     "iopub.execute_input": "2025-03-03T06:00:01.237756Z",
     "iopub.status.busy": "2025-03-03T06:00:01.236855Z",
     "iopub.status.idle": "2025-03-03T06:00:01.241011Z",
     "shell.execute_reply": "2025-03-03T06:00:01.240234Z",
     "shell.execute_reply.started": "2025-03-03T06:00:01.237730Z"
    },
    "tags": []
   },
   "outputs": [],
   "source": [
    "import numpy as np"
   ]
  },
  {
   "cell_type": "code",
   "execution_count": 2,
   "id": "f97e398c-1315-4b9c-bdad-6778b36943c0",
   "metadata": {
    "execution": {
     "iopub.execute_input": "2025-02-28T07:34:12.294533Z",
     "iopub.status.busy": "2025-02-28T07:34:12.294057Z",
     "iopub.status.idle": "2025-02-28T07:34:12.302013Z",
     "shell.execute_reply": "2025-02-28T07:34:12.301087Z",
     "shell.execute_reply.started": "2025-02-28T07:34:12.294501Z"
    },
    "tags": []
   },
   "outputs": [
    {
     "data": {
      "text/plain": [
       "[[1, 2], [1, 6], [1, 5], [5, 6], [9, 6], [10, 10]]"
      ]
     },
     "execution_count": 2,
     "metadata": {},
     "output_type": "execute_result"
    }
   ],
   "source": [
    "x = [\n",
    "    [1,2],\n",
    "    [1,6],\n",
    "    [1,5],\n",
    "    [5,6],\n",
    "    [9,6],\n",
    "    [10,10]\n",
    "]\n",
    "x"
   ]
  },
  {
   "cell_type": "code",
   "execution_count": 4,
   "id": "fa6ddf31-b8ec-49e7-a9fa-0bb5171f4d90",
   "metadata": {
    "execution": {
     "iopub.execute_input": "2025-02-28T07:41:57.952214Z",
     "iopub.status.busy": "2025-02-28T07:41:57.951971Z",
     "iopub.status.idle": "2025-02-28T07:41:57.957798Z",
     "shell.execute_reply": "2025-02-28T07:41:57.957107Z",
     "shell.execute_reply.started": "2025-02-28T07:41:57.952198Z"
    },
    "tags": []
   },
   "outputs": [
    {
     "data": {
      "text/plain": [
       "0.9134245976161642"
      ]
     },
     "execution_count": 4,
     "metadata": {},
     "output_type": "execute_result"
    }
   ],
   "source": [
    "np.random.rand()"
   ]
  },
  {
   "cell_type": "code",
   "execution_count": null,
   "id": "57645ea0-17f5-46dc-949a-b5aebffd4e4b",
   "metadata": {},
   "outputs": [],
   "source": [
    "def euclidean_distance(x,y):\n",
    "    return (x[0]-x[])"
   ]
  }
 ],
 "metadata": {
  "kernelspec": {
   "display_name": "Python 3 (ipykernel)",
   "language": "python",
   "name": "python3"
  },
  "language_info": {
   "codemirror_mode": {
    "name": "ipython",
    "version": 3
   },
   "file_extension": ".py",
   "mimetype": "text/x-python",
   "name": "python",
   "nbconvert_exporter": "python",
   "pygments_lexer": "ipython3",
   "version": "3.9.15"
  }
 },
 "nbformat": 4,
 "nbformat_minor": 5
}
